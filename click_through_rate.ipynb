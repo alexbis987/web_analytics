{
 "cells": [
  {
   "cell_type": "code",
   "execution_count": 1,
   "metadata": {
    "collapsed": true
   },
   "outputs": [],
   "source": [
    "%matplotlib inline\n",
    "import numpy as np\n",
    "import pandas as pd\n",
    "import matplotlib.pyplot as plt\n",
    "import scipy.stats as stats\n",
    "from itertools import combinations\n",
    "\n",
    "#import samplers as spl"
   ]
  },
  {
   "cell_type": "code",
   "execution_count": 2,
   "metadata": {
    "collapsed": true
   },
   "outputs": [],
   "source": [
    "df = pd.read_csv(\"data/nyt1.csv\")"
   ]
  },
  {
   "cell_type": "code",
   "execution_count": 3,
   "metadata": {},
   "outputs": [
    {
     "data": {
      "text/html": [
       "<div>\n",
       "<style>\n",
       "    .dataframe thead tr:only-child th {\n",
       "        text-align: right;\n",
       "    }\n",
       "\n",
       "    .dataframe thead th {\n",
       "        text-align: left;\n",
       "    }\n",
       "\n",
       "    .dataframe tbody tr th {\n",
       "        vertical-align: top;\n",
       "    }\n",
       "</style>\n",
       "<table border=\"1\" class=\"dataframe\">\n",
       "  <thead>\n",
       "    <tr style=\"text-align: right;\">\n",
       "      <th></th>\n",
       "      <th>Age</th>\n",
       "      <th>Gender</th>\n",
       "      <th>Impressions</th>\n",
       "      <th>Clicks</th>\n",
       "      <th>Signed_In</th>\n",
       "    </tr>\n",
       "  </thead>\n",
       "  <tbody>\n",
       "    <tr>\n",
       "      <th>0</th>\n",
       "      <td>36</td>\n",
       "      <td>0</td>\n",
       "      <td>3</td>\n",
       "      <td>0</td>\n",
       "      <td>1</td>\n",
       "    </tr>\n",
       "    <tr>\n",
       "      <th>1</th>\n",
       "      <td>73</td>\n",
       "      <td>1</td>\n",
       "      <td>3</td>\n",
       "      <td>0</td>\n",
       "      <td>1</td>\n",
       "    </tr>\n",
       "    <tr>\n",
       "      <th>2</th>\n",
       "      <td>30</td>\n",
       "      <td>0</td>\n",
       "      <td>3</td>\n",
       "      <td>0</td>\n",
       "      <td>1</td>\n",
       "    </tr>\n",
       "    <tr>\n",
       "      <th>3</th>\n",
       "      <td>49</td>\n",
       "      <td>1</td>\n",
       "      <td>3</td>\n",
       "      <td>0</td>\n",
       "      <td>1</td>\n",
       "    </tr>\n",
       "    <tr>\n",
       "      <th>4</th>\n",
       "      <td>47</td>\n",
       "      <td>1</td>\n",
       "      <td>11</td>\n",
       "      <td>0</td>\n",
       "      <td>1</td>\n",
       "    </tr>\n",
       "  </tbody>\n",
       "</table>\n",
       "</div>"
      ],
      "text/plain": [
       "   Age  Gender  Impressions  Clicks  Signed_In\n",
       "0   36       0            3       0          1\n",
       "1   73       1            3       0          1\n",
       "2   30       0            3       0          1\n",
       "3   49       1            3       0          1\n",
       "4   47       1           11       0          1"
      ]
     },
     "execution_count": 3,
     "metadata": {},
     "output_type": "execute_result"
    }
   ],
   "source": [
    "df.head()"
   ]
  },
  {
   "cell_type": "code",
   "execution_count": 4,
   "metadata": {},
   "outputs": [
    {
     "data": {
      "text/plain": [
       "Index(['Age', 'Gender', 'Impressions', 'Clicks', 'Signed_In'], dtype='object')"
      ]
     },
     "execution_count": 4,
     "metadata": {},
     "output_type": "execute_result"
    }
   ],
   "source": [
    "df.columns"
   ]
  },
  {
   "cell_type": "code",
   "execution_count": 5,
   "metadata": {},
   "outputs": [
    {
     "name": "stdout",
     "output_type": "stream",
     "text": [
      "<class 'pandas.core.frame.DataFrame'>\n",
      "Int64Index: 455375 entries, 0 to 458440\n",
      "Data columns (total 6 columns):\n",
      "Age            455375 non-null int64\n",
      "Gender         455375 non-null int64\n",
      "Impressions    455375 non-null int64\n",
      "Clicks         455375 non-null int64\n",
      "Signed_In      455375 non-null int64\n",
      "CTR            455375 non-null float64\n",
      "dtypes: float64(1), int64(5)\n",
      "memory usage: 24.3 MB\n"
     ]
    }
   ],
   "source": [
    "df = df[df.Impressions != 0]\n",
    "df[\"CTR\"] = df['Clicks']/ df['Impressions']\n",
    "df.info()"
   ]
  },
  {
   "cell_type": "code",
   "execution_count": 6,
   "metadata": {
    "collapsed": true
   },
   "outputs": [],
   "source": [
    "def plot_hist(df, title):\n",
    "    df.hist(['Age','Gender', 'Impressions','Clicks', 'Signed_In',],bins=4,layout=(2,3), \n",
    "            figsize=(12,5))\n",
    "    plt.suptitle(title, size=18, weight='bold')\n",
    "\n",
    "plt.show()"
   ]
  },
  {
   "cell_type": "code",
   "execution_count": 7,
   "metadata": {},
   "outputs": [
    {
     "data": {
      "image/png": "[encoded data removed]",
      "text/plain": [
       "<matplotlib.figure.Figure at 0x1124565c0>"
      ]
     },
     "metadata": {},
     "output_type": "display_data"
    }
   ],
   "source": [
    "plot_hist(df, \"Click Through Rate\")"
   ]
  },
  {
   "cell_type": "code",
   "execution_count": 8,
   "metadata": {
    "collapsed": true
   },
   "outputs": [],
   "source": [
    "# Two data frames created for signed in and not signed in\n",
    "signdf = df[df.Signed_In == 1].copy()\n",
    "\n",
    "notsigndf = df[df.Signed_In == 0].copy()"
   ]
  },
  {
   "cell_type": "markdown",
   "metadata": {},
   "source": [
    "The CTR (Click Through Rate) is higher with the users that signed in. This is worthy of more investigation."
   ]
  },
  {
   "cell_type": "code",
   "execution_count": 9,
   "metadata": {},
   "outputs": [
    {
     "data": {
      "image/png": "[encoded data removed]",
      "text/plain": [
       "<matplotlib.figure.Figure at 0x1124565f8>"
      ]
     },
     "metadata": {},
     "output_type": "display_data"
    },
    {
     "data": {
      "image/png": "[encoded data removed]",
      "text/plain": [
       "<matplotlib.figure.Figure at 0x1147cd320>"
      ]
     },
     "metadata": {},
     "output_type": "display_data"
    }
   ],
   "source": [
    "\n",
    "\n",
    "plot_hist(notsigndf, \"Click Through Rate Data for unknown users\")\n",
    "plot_hist(signdf, \"Click Through Rate Data for signed in users\")\n"
   ]
  },
  {
   "cell_type": "code",
   "execution_count": 10,
   "metadata": {},
   "outputs": [
    {
     "data": {
      "text/plain": [
       "Ttest_indResult(statistic=-55.376117934260868, pvalue=0.0)"
      ]
     },
     "execution_count": 10,
     "metadata": {},
     "output_type": "execute_result"
    }
   ],
   "source": [
    "stats.ttest_ind(signdf.CTR, notsigndf.CTR, equal_var=False)\n"
   ]
  },
  {
   "cell_type": "code",
   "execution_count": 11,
   "metadata": {
    "collapsed": true
   },
   "outputs": [],
   "source": [
    "def plot_t_test(group_1_df, group_2_df, group_1_name, group_2_name):\n",
    "    fig = plt.figure()\n",
    "    group_1_mean = group_1_df['CTR'].mean()\n",
    "    group_2_mean = group_2_df['CTR'].mean()\n",
    "\n",
    "    print ('%s Mean CTR: %s' % (group_1_name, group_1_mean))\n",
    "    print ('%s Mean CTR: %s' % (group_2_name, group_2_mean))\n",
    "    print ('diff in mean:', abs(group_2_mean-group_1_mean))\n",
    "    p_val = stats.ttest_ind(group_1_df['CTR'], group_2_df['CTR'], equal_var=False)[1]\n",
    "    print ('p value is:', p_val)\n",
    "\n",
    "    group_1_df['CTR'].hist(normed=True, label=group_1_name, color='b', alpha=0.3)\n",
    "    group_2_df['CTR'].hist(normed=True, label=group_2_name, color='r', alpha=0.3)\n",
    "    plt.axvline(group_1_mean, color='r', alpha=0.6, lw=2)\n",
    "    plt.axvline(group_2_mean, color='b', alpha=0.6, lw=2)\n",
    "\n",
    "    plt.ylabel('Probability Density')\n",
    "    plt.xlabel('CTR')\n",
    "    plt.legend()\n",
    "    plt.grid('off')\n",
    "    plt.show()\n",
    "\n"
   ]
  },
  {
   "cell_type": "code",
   "execution_count": null,
   "metadata": {
    "collapsed": true
   },
   "outputs": [],
   "source": [
    "male = signdf[signdf.Gender == 1]\n",
    "female = signdf[signdf.Gender == 0]"
   ]
  },
  {
   "cell_type": "markdown",
   "metadata": {},
   "source": [
    "The male vs female for CTR has no impact of variation between the two"
   ]
  },
  {
   "cell_type": "code",
   "execution_count": 13,
   "metadata": {},
   "outputs": [
    {
     "name": "stdout",
     "output_type": "stream",
     "text": [
      "m Mean CTR: 0.01391852429759764\n",
      "f Mean CTR: 0.014622012183866056\n",
      "diff in mean: 0.0007034878862684155\n",
      "p value is: 0.00100285273131\n"
     ]
    },
    {
     "data": {
      "image/png": "[encoded data removed]",
      "text/plain": [
       "<matplotlib.figure.Figure at 0x107f63d68>"
      ]
     },
     "metadata": {},
     "output_type": "display_data"
    }
   ],
   "source": [
    "plot_t_test(male, female, 'm', 'f')"
   ]
  },
  {
   "cell_type": "code",
   "execution_count": 19,
   "metadata": {
    "collapsed": true
   },
   "outputs": [],
   "source": [
    "signdf['age_groups'] = pd.cut(signdf['Age'], [7, 18, 24, 34, 44, 54, 64, 1000])"
   ]
  },
  {
   "cell_type": "code",
   "execution_count": 20,
   "metadata": {},
   "outputs": [
    {
     "data": {
      "image/png": "[encoded data removed]",
      "text/plain": [
       "<matplotlib.figure.Figure at 0x11eeff828>"
      ]
     },
     "metadata": {},
     "output_type": "display_data"
    }
   ],
   "source": [
    "signdf['age_groups'].value_counts().sort_index().plot(kind='bar', grid=False)\n",
    "plt.xlabel('Age Group')\n",
    "plt.ylabel('Number of users')\n",
    "plt.tight_layout()\n",
    "plt.show()"
   ]
  },
  {
   "cell_type": "code",
   "execution_count": 24,
   "metadata": {},
   "outputs": [
    {
     "data": {
      "text/html": [
       "<div>\n",
       "<style>\n",
       "    .dataframe thead tr:only-child th {\n",
       "        text-align: right;\n",
       "    }\n",
       "\n",
       "    .dataframe thead th {\n",
       "        text-align: left;\n",
       "    }\n",
       "\n",
       "    .dataframe tbody tr th {\n",
       "        vertical-align: top;\n",
       "    }\n",
       "</style>\n",
       "<table border=\"1\" class=\"dataframe\">\n",
       "  <thead>\n",
       "    <tr style=\"text-align: right;\">\n",
       "      <th></th>\n",
       "      <th>first_age_group</th>\n",
       "      <th>second_age_group</th>\n",
       "      <th>first_group_mean</th>\n",
       "      <th>second_group_mean</th>\n",
       "      <th>mean_diff</th>\n",
       "      <th>absolute_mean_diff</th>\n",
       "      <th>p_value</th>\n",
       "    </tr>\n",
       "  </thead>\n",
       "  <tbody>\n",
       "    <tr>\n",
       "      <th>1</th>\n",
       "      <td>(34, 44]</td>\n",
       "      <td>(24, 34]</td>\n",
       "      <td>0.010286</td>\n",
       "      <td>0.010146</td>\n",
       "      <td>0.000140</td>\n",
       "      <td>0.000140</td>\n",
       "      <td>0.624837</td>\n",
       "    </tr>\n",
       "    <tr>\n",
       "      <th>13</th>\n",
       "      <td>(24, 34]</td>\n",
       "      <td>(44, 54]</td>\n",
       "      <td>0.010146</td>\n",
       "      <td>0.009958</td>\n",
       "      <td>0.000189</td>\n",
       "      <td>0.000189</td>\n",
       "      <td>0.514327</td>\n",
       "    </tr>\n",
       "    <tr>\n",
       "      <th>19</th>\n",
       "      <td>(44, 54]</td>\n",
       "      <td>(18, 24]</td>\n",
       "      <td>0.009958</td>\n",
       "      <td>0.009720</td>\n",
       "      <td>0.000237</td>\n",
       "      <td>0.000237</td>\n",
       "      <td>0.476879</td>\n",
       "    </tr>\n",
       "  </tbody>\n",
       "</table>\n",
       "</div>"
      ],
      "text/plain": [
       "   first_age_group second_age_group  first_group_mean  second_group_mean  \\\n",
       "1         (34, 44]         (24, 34]          0.010286           0.010146   \n",
       "13        (24, 34]         (44, 54]          0.010146           0.009958   \n",
       "19        (44, 54]         (18, 24]          0.009958           0.009720   \n",
       "\n",
       "    mean_diff  absolute_mean_diff   p_value  \n",
       "1    0.000140            0.000140  0.624837  \n",
       "13   0.000189            0.000189  0.514327  \n",
       "19   0.000237            0.000237  0.476879  "
      ]
     },
     "execution_count": 24,
     "metadata": {},
     "output_type": "execute_result"
    }
   ],
   "source": [
    "results = pd.DataFrame()\n",
    "combos = combinations(pd.unique(signdf['age_groups']), 2)\n",
    "alpha = 0.3\n",
    "\n",
    "for age_group_1, age_group_2 in combos:\n",
    "    age_group_1_ctr = signdf[signdf.age_groups == age_group_1]['CTR']\n",
    "    age_group_2_ctr = signdf[signdf.age_groups == age_group_2]['CTR']\n",
    "    \n",
    "    p_value = stats.ttest_ind(age_group_1_ctr, age_group_2_ctr, equal_var=True)[1]\n",
    "    age_group_1_ctr_mean = age_group_1_ctr.mean()\n",
    "    age_group_2_ctr_mean = age_group_2_ctr.mean()\n",
    "    diff = age_group_1_ctr_mean - age_group_2_ctr_mean\n",
    "    absolute_diff = abs(age_group_1_ctr_mean - age_group_2_ctr_mean)\n",
    "    results = results.append({'first_age_group':age_group_1, 'second_age_group':age_group_2, \n",
    "              'first_group_mean':age_group_1_ctr_mean, 'second_group_mean':age_group_2_ctr_mean,\n",
    "              'mean_diff':diff, 'absolute_mean_diff':absolute_diff, 'p_value':p_value},\n",
    "              ignore_index=True)\n",
    "    \n",
    "results = results[['first_age_group', 'second_age_group', \n",
    "                   'first_group_mean', 'second_group_mean', \n",
    "                   'mean_diff', 'absolute_mean_diff', 'p_value']]\n",
    "    \n",
    "results[results['p_value'] < alpha].sort_values('absolute_mean_diff', ascending=False)\n",
    "results[results['p_value'] < alpha].sort_values('p_value', ascending=False)\n",
    "results[results['p_value'] > alpha].sort_values('absolute_mean_diff', ascending=False)\n",
    "results[results['p_value'] > alpha].sort_values('p_value', ascending=False)"
   ]
  },
  {
   "cell_type": "code",
   "execution_count": null,
   "metadata": {
    "collapsed": true
   },
   "outputs": [],
   "source": []
  },
  {
   "cell_type": "markdown",
   "metadata": {},
   "source": [
    "Each '(64, 1000]', '(7, 18]' and '(54, 64]' age group\n",
    "has CTR significantly greater than than the other 4 age groups\n",
    "(i.e., '(18, 24]', '(24, 34]', '(34, 44]', and '(44, 54]').\n",
    "So the oldest 2 groups and the youngest group are the mostly\n",
    "likely to click through.\n",
    "\n",
    "While '(64, 1000]' has a higher CTR than '(7, 18]' which in turn has a\n",
    "higher CTR than '(54, 64]' and the differences are all statistically\n",
    "significant, they are less significant than that between the others.\n",
    "\n",
    "Perhaps the oldest groups are more prone to click through to read an\n",
    "article,  but do less browsing overall. On the other hand, the youngest\n",
    "group may be less directed but more active and superficial in their clicking.\n",
    "\n",
    "The differences in CTR between '(18, 24]', '(24, 34]', '(34, 44]' and '(44, 54]'\n",
    "are not significant. This indicates the users aged from 18 - 54 are clicking\n",
    "through at similar ratios. This may be due to similar browsing behavior. I.e.,\n",
    "they may be at work and scanning through a lot of articles in between tasks,\n",
    "but not clicking through into the articles to actually read them."
   ]
  },
  {
   "cell_type": "code",
   "execution_count": null,
   "metadata": {
    "collapsed": true
   },
   "outputs": [],
   "source": []
  }
 ],
 "metadata": {
  "kernelspec": {
   "display_name": "Python 3",
   "language": "python",
   "name": "python3"
  },
  "language_info": {
   "codemirror_mode": {
    "name": "ipython",
    "version": 3
   },
   "file_extension": ".py",
   "mimetype": "text/x-python",
   "name": "python",
   "nbconvert_exporter": "python",
   "pygments_lexer": "ipython3",
   "version": "3.5.3"
  }
 },
 "nbformat": 4,
 "nbformat_minor": 2
}
